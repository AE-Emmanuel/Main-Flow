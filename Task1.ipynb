{
 "cells": [
  {
   "cell_type": "code",
   "execution_count": 1,
   "id": "58880c3c-f668-47fe-82f9-33e64c56ee97",
   "metadata": {},
   "outputs": [],
   "source": [
    "import pandas as pd"
   ]
  },
  {
   "cell_type": "code",
   "execution_count": 2,
   "id": "708b68d7-0d04-498b-b552-d37ff2deee07",
   "metadata": {},
   "outputs": [
    {
     "name": "stdout",
     "output_type": "stream",
     "text": [
      "updated list: [10, 2, 3, 'hello', 5, 6]\n"
     ]
    }
   ],
   "source": [
    "#creating a list\n",
    "my_list=[1,2,3,4,5]\n",
    "\n",
    "#adding elements to the list \n",
    "my_list.append(6)\n",
    "\n",
    "#removing elements from the list \n",
    "my_list.remove(4)\n",
    "\n",
    "#modifying an element in the list \n",
    "my_list[0]=10\n",
    "\n",
    "#inserting an element in our list \n",
    "my_list.insert(3,\"hello\")\n",
    "\n",
    "#output of our modified list \n",
    "print(\"updated list:\" , my_list)"
   ]
  },
  {
   "cell_type": "code",
   "execution_count": 8,
   "id": "4761a377-17a2-478b-9b97-921b47cfedbf",
   "metadata": {},
   "outputs": [
    {
     "name": "stdout",
     "output_type": "stream",
     "text": [
      "updated dictionary: {'name': 'john', 'city': 'chennai', 'gender': 'male'}\n"
     ]
    }
   ],
   "source": [
    "#creating a dictionary \n",
    "my_dict={\"name\":\"john\",\"age\":23,\"city\":\"mumbai\"}\n",
    "\n",
    "#add a key-value pair to the Dictionary \n",
    "my_dict['gender']='male'\n",
    "\n",
    "#delete a key-value pair \n",
    "del my_dict['age']\n",
    "\n",
    "#modifying a pair\n",
    "my_dict['city']='chennai'\n",
    "\n",
    "#printing the dictionary \n",
    "print(\"updated dictionary:\",my_dict)\n"
   ]
  },
  {
   "cell_type": "code",
   "execution_count": null,
   "id": "123cf899-c249-4dca-8220-ce7a7a373dc2",
   "metadata": {},
   "outputs": [],
   "source": [
    "#creating a tuple \n",
    "og_tuple=(1,2,3,4)\n",
    "\n",
    "#adding a new element to the tuple \n",
    "new_element=5\n",
    "updated_tuple = og_tuple+(new_element,)\n",
    "\n",
    "#removing element from the tuple \n",
    "updated_tuple = og_tuple[:2]+ og_tuple[3:]\n",
    "\n",
    "#modifying element in a tuple \n",
    "element=6\n",
    "updated_tuple = "
   ]
  }
 ],
 "metadata": {
  "kernelspec": {
   "display_name": "Python 3 (ipykernel)",
   "language": "python",
   "name": "python3"
  },
  "language_info": {
   "codemirror_mode": {
    "name": "ipython",
    "version": 3
   },
   "file_extension": ".py",
   "mimetype": "text/x-python",
   "name": "python",
   "nbconvert_exporter": "python",
   "pygments_lexer": "ipython3",
   "version": "3.12.4"
  }
 },
 "nbformat": 4,
 "nbformat_minor": 5
}
